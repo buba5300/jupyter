{
 "cells": [
  {
   "cell_type": "markdown",
   "metadata": {},
   "source": [
    "sudo rstudio-server stop\n",
    "sudo rstudio-server start\n",
    "sudo rstudio-server restart"
   ]
  },
  {
   "cell_type": "code",
   "execution_count": null,
   "metadata": {},
   "outputs": [],
   "source": [
    "library(ballgown)\n",
    "library(dplyr)\n",
    "library(RskittleBrewer)\n",
    "library(genefilter)\n",
    "library(devtools)"
   ]
  },
  {
   "cell_type": "markdown",
   "metadata": {},
   "source": [
    "# Read the data from stringtie and write to CSV"
   ]
  },
  {
   "cell_type": "raw",
   "metadata": {},
   "source": [
    "#create a csv file with the sample names and their condition(a number to group the samples by)\n",
    "#read the phenotype csv into R\n",
    "pheno_data = read.csv(\"phenotype.csv\")\n",
    "\n",
    "# read in the expression data calculated by Stringtie from the ballgown folder\n",
    "# load the pheotypic information created in the previous set\n",
    "# repeated for other samples as well, but kept short for methods\n",
    "bg_GHA_PFA = ballgown(dataDir = 'ballgown', samplePatter = 'ERR', pData = pheno_data)\n",
    "\n",
    "# filter out the low-abundance genes to have counts that are larger than one\n",
    "# low abundance genes can be caused by contamination in RNA-seq\n",
    "bg_filt = subset(bg_GHA_PFA, \"rowVars(texpr(bg_GHA_PFA)) > 1\", genomesubset = TRUE)\n",
    "\n",
    "# to find variation in expression, stattest from ballgown is used. The parameters used are by log2FC\n",
    "# log2FC is good for comparison and prevents bias when calculating dependent on comparing to which gene\n",
    "\\ ie (2-1)/2 != (1-2)/1\n",
    "results_tr = stattest(bg_filt, feature = \"transcript\", covariate = \"Condition\", getFC=TRUE, meas=\"FPKM\")\n",
    "\n",
    "# do the same with genes\n",
    "results_ge = stattest(bg_filt, feature = \"gene\", covariate = \"Condition\", getFC=TRUE, meas=\"FPKM\")\n",
    "\n",
    "# add gene names and gene IDS to the results_tr df\n",
    "fata.frame(geneNames=ballgown::geneNames(bg_filt), geneIDs = ballgown::geneIDs(bg_filt), results_tr_\n",
    "\n",
    "# sort the results by Pval\n",
    "results_tr = arrange(results_tr,pval)\n",
    "\n",
    "#write to csv file"
   ]
  },
  {
   "cell_type": "markdown",
   "metadata": {},
   "source": [
    "# Visualize the data by creating various plots"
   ]
  },
  {
   "cell_type": "raw",
   "metadata": {},
   "source": [
    "# identify transcripts w qval (a more accurate statistical measure for larger samples)\n",
    "subset(results_tr,results_tr$qval<0.05)\n",
    "\n",
    "# use ballgown to visualize the rna seq results\n",
    "# add some pretty colors\n",
    "tropical= c('darkorange', 'dodgerblue','hotpink', 'limegreen', 'yellow')\n",
    "palette(tropical)\n",
    "\n",
    "# show the distribution of gene abundances across the different conditions (samples in the same group)\n",
    "# create groups to compare \n",
    "HLB_GHA_PFA['condition] = c('1','1','1','2','2','2')\n",
    "\n",
    "# find the log2 of the data to better visualize the data \n",
    "fpkm = texpr(bg_GHA_PFA, meas = 'FPKM')\n",
    "fpkm = log2(fpkm+1)\n",
    "\n",
    "# create a boxplot of the  gene abundance distribution data\n",
    "boxplot(fpkm, col=as.umeric(HLB_GHA_PFA$condition), las = 2, ylab ='log2(FPKM+1)')"
   ]
  },
  {
   "cell_type": "code",
   "execution_count": null,
   "metadata": {},
   "outputs": [],
   "source": [
    "# show the expression levels of transcripts that share the same gene locus\n",
    "# shows different isoforms of a certain transcript sequence\n",
    "plotTranscripts(ballgown::geneIDs(bg_GHA_PFA)[1:210], bg_GHA_PFA)"
   ]
  }
 ],
 "metadata": {
  "kernelspec": {
   "display_name": "Python 3",
   "language": "python",
   "name": "python3"
  },
  "language_info": {
   "codemirror_mode": {
    "name": "ipython",
    "version": 3
   },
   "file_extension": ".py",
   "mimetype": "text/x-python",
   "name": "python",
   "nbconvert_exporter": "python",
   "pygments_lexer": "ipython3",
   "version": "3.6.8"
  }
 },
 "nbformat": 4,
 "nbformat_minor": 2
}
