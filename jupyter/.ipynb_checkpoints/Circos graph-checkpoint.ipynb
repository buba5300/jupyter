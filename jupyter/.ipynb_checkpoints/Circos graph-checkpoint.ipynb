{
 "cells": [
  {
   "cell_type": "code",
   "execution_count": null,
   "metadata": {},
   "outputs": [],
   "source": [
    "sudo bin/circos -conf ./bin/test.conf"
   ]
  },
  {
   "cell_type": "markdown",
   "metadata": {},
   "source": [
    "# Creating the histogram txt"
   ]
  },
  {
   "cell_type": "code",
   "execution_count": null,
   "metadata": {},
   "outputs": [],
   "source": [
    "import pandas as pd\n",
    "from io import StringIO\n",
    "import datetime as dt"
   ]
  },
  {
   "cell_type": "code",
   "execution_count": null,
   "metadata": {},
   "outputs": [],
   "source": [
    "# readcsv as dataframe and select columns to be used for a text file\n",
    "df1 = pd.read_csv('/RNA/VALENCIA/allele/merged.csv', sep='\\t', index_col=False, usecols=['contig', 'position', 'refCount_1','altCount_1'])\n",
    "df1"
   ]
  },
  {
   "cell_type": "code",
   "execution_count": null,
   "metadata": {},
   "outputs": [],
   "source": [
    "# create an empty dataframe\n",
    "hist = pd.DataFrame(columns = ['chr','start','end','value'])"
   ]
  },
  {
   "cell_type": "code",
   "execution_count": null,
   "metadata": {},
   "outputs": [],
   "source": [
    "# splice the chromosome ids from df and place into hist\n",
    "hist['chr'] = df1['contig']"
   ]
  },
  {
   "cell_type": "code",
   "execution_count": null,
   "metadata": {},
   "outputs": [],
   "source": [
    "# add the start and end values of the read count positions by subtracting and adding 5 from the value\n",
    "hist['start']=df1['position']\n",
    "hist['end']=df1['position']+10\n",
    "hist"
   ]
  },
  {
   "cell_type": "code",
   "execution_count": null,
   "metadata": {},
   "outputs": [],
   "source": [
    "# create a new column calcuating the values of alt refCount_1/(refCount_1+altCount_1)\n",
    "hist['value']=(df1['refCount_1']/(df1['refCount_1']+df1['altCount_1']))\n",
    "# change the values of NaN to 0\n",
    "hist['value'] = hist['value'].fillna(0)"
   ]
  },
  {
   "cell_type": "code",
   "execution_count": null,
   "metadata": {},
   "outputs": [],
   "source": [
    "# create a new column calcuating the values of alt altCount_1/(refCount_1+altCount_1)\n",
    "hist['altval']=(df1['altCount_1']/(df1['refCount_1']+df1['altCount_1']))\n",
    "hist['altval'] = hist['altval'].fillna(0)\n",
    "hist"
   ]
  },
  {
   "cell_type": "code",
   "execution_count": null,
   "metadata": {},
   "outputs": [],
   "source": [
    "#filter rows that have equal 0 for both alt and ref count\n",
    "filt = hist.loc[hist['value'] + hist['altval'] != 0]\n",
    "filt1 = filt.loc[filt['chr']=='chr1']\n",
    "filt1 = filt1.head(10000)\n",
    "filt1"
   ]
  },
  {
   "cell_type": "code",
   "execution_count": null,
   "metadata": {},
   "outputs": [],
   "source": [
    "# combine value and altvalue as a string to format as required txt file(value,value)\n",
    "filt1['str'] = filt1['value'].map(str) + ',' + filt1['altval'].map(str)\n",
    "# write as text file \n",
    "filt1.to_csv('/RNA/circos/circos-0.69-9/hist/hist1.txt', header=None, index=None, sep='\\t', columns=['chr','start','end','str'])"
   ]
  },
  {
   "cell_type": "code",
   "execution_count": null,
   "metadata": {},
   "outputs": [],
   "source": [
    "# create a list of numbers to iterate from\n",
    "df_name = [str(i) for i in range(2,16)]\n",
    "df_name"
   ]
  },
  {
   "cell_type": "code",
   "execution_count": null,
   "metadata": {},
   "outputs": [],
   "source": [
    "# create a dictionary for the different dataframes\n",
    "df_name = [str(i) for i in range(2,16)]\n",
    "dict = {}\n",
    "for d in df_name:\n",
    "    dict[d] = pd.read_csv('/RNA/VALENCIA/allele/chr1.csv', sep='\\t', index_col=False, usecols=['contig','position','refCount_'+d, 'altCount_'+d])"
   ]
  },
  {
   "cell_type": "code",
   "execution_count": null,
   "metadata": {},
   "outputs": [],
   "source": [
    "# create a new list for adjusted dataframes to be read as a txt using list and for looop\n",
    "c = ['chr','start','end','value','altval']\n",
    "hist_list = {}\n",
    "for d in df_name:\n",
    "    hist_list[d] = pd.DataFrame(columns=c)\n",
    "    hist_list[d]['chr'] = dict[d]['contig']\n",
    "    hist_list[d]['start']=dict[d]['position']\n",
    "    hist_list[d]['end']=dict[d]['position']+10\n",
    "    hist_list[d]['value']=(dict[d]['refCount_'+d]/(dict[d]['refCount_'+d]+dict[d]['altCount_'+d]))\n",
    "    hist_list[d]['value'] = hist_list[d]['value'].fillna(0)\n",
    "    hist_list[d]['altval']=(dict[d]['altCount_'+d]/(dict[d]['refCount_'+d]+dict[d]['altCount_'+d]))\n",
    "    hist_list[d]['altval'] = hist_list[d]['altval'].fillna(0)\n",
    "    hist_list[d] = hist_list[d].loc[hist_list[d]['value'] + hist_list[d]['altval'] != 0]\n",
    "    hist_list[d] = hist_list[d].head(10000)\n",
    "    # combine the last 2 values as a string seperated by delimiter ','\n",
    "    hist_list[d]['str'] = hist_list[d]['value'].map(str) + ',' + hist_list[d]['altval'].map(str)"
   ]
  },
  {
   "cell_type": "code",
   "execution_count": null,
   "metadata": {},
   "outputs": [],
   "source": [
    "# write each file to csv\n",
    "for d in df_name:\n",
    "    hist_list[d].to_csv('/RNA/circos/circos-0.69-9/hist'+d+'.txt', header=None, index=None, sep='\\t', columns=['chr','start','end','str'])"
   ]
  },
  {
   "cell_type": "code",
   "execution_count": null,
   "metadata": {},
   "outputs": [],
   "source": [
    "hist_list['2']"
   ]
  },
  {
   "cell_type": "markdown",
   "metadata": {},
   "source": [
    "# Creating a stacked histogram "
   ]
  },
  {
   "cell_type": "raw",
   "metadata": {},
   "source": [
    "show_ticks          = yes\n",
    "show_tick_labels    = yes\n",
    "\n",
    "<ticks>\n",
    "tick_separation      = 3p\n",
    "label_separation     = 5p\n",
    "radius               = dims(ideogram,radius_outer)\n",
    "multiplier           = 1e-3\n",
    "color          = black\n",
    "size           = 20p\n",
    "thickness      = 4p\n",
    "label_offset   = 5p\n",
    "format         = %d\n",
    "\n",
    "<tick>\n",
    "spacing        = 1u\n",
    "show_label     = yes\n",
    "label_size     = 20p\n",
    "</tick>\n",
    "\n",
    "<tick>\n",
    "spacing        = 5u\n",
    "show_label     = yes\n",
    "label_size     = 18p\n",
    "</tick>\n",
    "\n",
    "<tick>\n",
    "spacing        = 10u\n",
    "show_label     = yes\n",
    "label_size     = 50p\n",
    "</tick>\n",
    "\n",
    "<tick>\n",
    "spacing        = 20u\n",
    "show_label     = yes\n",
    "label_size     = 100p\n",
    "</tick>\n",
    "\n",
    "</ticks>"
   ]
  },
  {
   "cell_type": "markdown",
   "metadata": {},
   "source": [
    "# Creating the tick settings"
   ]
  },
  {
   "cell_type": "raw",
   "metadata": {},
   "source": [
    "<"
   ]
  }
 ],
 "metadata": {
  "kernelspec": {
   "display_name": "Python 3",
   "language": "python",
   "name": "python3"
  },
  "language_info": {
   "codemirror_mode": {
    "name": "ipython",
    "version": 3
   },
   "file_extension": ".py",
   "mimetype": "text/x-python",
   "name": "python",
   "nbconvert_exporter": "python",
   "pygments_lexer": "ipython3",
   "version": "3.6.8"
  }
 },
 "nbformat": 4,
 "nbformat_minor": 2
}
