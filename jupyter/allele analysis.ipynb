{
 "cells": [
  {
   "cell_type": "code",
   "execution_count": null,
   "metadata": {},
   "outputs": [],
   "source": [
    "# download citrus sinesis sra and convert to fastq\n",
    "fastq-dump SRR5799051 SRR4240447 SRR4237671"
   ]
  },
  {
   "cell_type": "code",
   "execution_count": null,
   "metadata": {},
   "outputs": [],
   "source": [
    "#install fastqc and unzip the file\n",
    "sudo wget https://www.bioinformatics.babraham.ac.uk/projects/fastqc/fastqc_v0.11.8.zip\n",
    "sudo unzip fastqc_v0.11.8.zip -d /fastQC"
   ]
  },
  {
   "cell_type": "code",
   "execution_count": null,
   "metadata": {},
   "outputs": [],
   "source": [
    "#run fastqc on multiple files\n",
    "# checks the quality of your data and outputs the result as html\n",
    "fastqc SRR5799051.fastq SRR4240447.fastq SRR4237671.fastq -o /data/fastQC"
   ]
  },
  {
   "cell_type": "code",
   "execution_count": null,
   "metadata": {},
   "outputs": [],
   "source": [
    "# fastq-dump the split file sra\n",
    "fastq-dump --split-files SRR5799051 SRR4240447 SRR4237671"
   ]
  },
  {
   "cell_type": "code",
   "execution_count": null,
   "metadata": {},
   "outputs": [],
   "source": [
    "# install trimmoatic\n",
    "sudo apt-install trimmomatic\n",
    "# use the generic quality trimm and adapter clip\n",
    "java -jar trimmomatic-0.39.jar PE SRR4240447_1.fastq SRR4240447_2.fastq pe.SRR4240447_1.fastq ue.SRR4240447_1.fastq pe.SRR4240447_2.fastq ue.SRR4240447_2.fastq ILLUMINACLIP:TruSeq3-P\n",
    "E.fa:2:30:10:2:keepBothReads LEADING:3 TRAILING:3 MINLEN:36\n",
    "\n",
    "java -jar trimmomatic-0.39.jar PE SRR4237671_1.fastq SRR4237671_2.fastq pe.SRR4237671_1.fastq ue.SRR4237671_1.fastq pe.SRR4237671_2.fastq ue.SRR4237671_2.fastq ILLUMINACLIP:TruSeq3-P\n",
    "E.fa:2:30:10:2:keepBothReads LEADING:3 TRAILING:3 MINLEN:36\n",
    "\n",
    "java -jar trimmomatic-0.39.jar PE SRR5799051_1.fastq SRR5799051_2.fastq pe.SRR5799051_1.fastq ue.SRR5799051_1.fastq pe.SRR5799051_2.fastq ue.SRR5799051_2.fastq ILLUMINACLIP:TruSeq3-P\n",
    "E.fa:2:30:10:2:keepBothReads LEADING:3 TRAILING:3 MINLEN:36"
   ]
  },
  {
   "cell_type": "code",
   "execution_count": null,
   "metadata": {},
   "outputs": [],
   "source": [
    "# allow access to write, read, and run files in a certain folder\n",
    "chmod 777 -R {folder}"
   ]
  },
  {
   "cell_type": "code",
   "execution_count": null,
   "metadata": {},
   "outputs": [],
   "source": [
    "#install the updated bwa from github\n",
    "wget https://github.com/lh3/bwa/releases/download/v0.7.17/bwa-0.7.17.tar.bz2\n",
    "# get the sweet orange reference genome\n",
    "scp kduan@130.127.106.25:/RNA/VALENCIA/csi.chromosome.fa /data\n",
    "# index the reference genome\n",
    "bwa index csi.chromosome.fa\n",
    "\n",
    "#rename the paired reads to have identical read names\n",
    "sed \n",
    "#map the samples to the reads\n",
    "bwa mem -t 40 csi.chromosome.fa pe.SRR4237671_1.fastq pe.SRR4237671_2.fastq > aln-pe.SRR4237671.sam\n",
    "bwa mem -t 40 csi.chromosome.fa pe.SRR4240447_1.fastq  pe.SRR4240447_2.fastq > aln-pe.SRR4240447.sam\n",
    "bwa mem -t 40 csi.chromosome.fa pe.SRR5799051_1.fastq  pe.SRR5799051_2.fastq > aln-pe.SRR5799051.sam"
   ]
  },
  {
   "cell_type": "code",
   "execution_count": null,
   "metadata": {},
   "outputs": [],
   "source": [
    "# sort the mapped alignments using samtools\n",
    "apt-get install samtools\n",
    "\n",
    "samtools sort -@ 40 -o aln-pe.SRR4237671.bam aln-pe.SRR4237671.sam\n",
    "samtools sort -@ 40 -o aln-pe.SRR4240447.bam aln-pe.SRR4240447.sam\n",
    "samtools sort -@ 40 -o aln-pe.SRR5799051.bam aln-pe.SRR5799051.sam\n",
    "\n",
    "#remove duplicates \n",
    "samtools rmdup aln-pe.SRR4237671.bam aln-pe-rm.SRR4237671.bam\n",
    "samtools rmdup aln-pe.SRR4240447.bam aln-pe-rm.SRR4240447.bam\n",
    "samtools rmdup aln-pe.SRR5799051.bam aln-pe-rm.SRR5799051.bam\n",
    "\n",
    "# merge bam files into one\n",
    "# use bcftools to call the SNPs of the aligned sequences\n",
    "# must convert bcf file to run call function\n",
    "bcftools mpileup -q 20 -Q 20 -Ou -o aln-pe-sequence.bcf -f csi.chromosome.fa aln-pe.SRR4237671.sam aln-pe.SRR4240447.sam aln-pe.SRR5799051.sam"
   ]
  },
  {
   "cell_type": "code",
   "execution_count": null,
   "metadata": {},
   "outputs": [],
   "source": [
    "# call snps\n",
    "bcftools call -c -v -Ov -o aln-pe-snps.vcf aln-pe-reads.bcf"
   ]
  },
  {
   "cell_type": "code",
   "execution_count": null,
   "metadata": {},
   "outputs": [],
   "source": [
    "#filter the reads to ensure better quality(less false positives)\n",
    "#bcf filter to ensure the entire quality of the mapped reads are >= 50\n",
    "bcftools filter -e'QUAL<=50' -o aln-pe-snps-filt.vcf aln-pe-snps.vcf\n",
    "\n",
    "#filter reads that 0.5<=dp<=1.5 avg_cov\n",
    "# create txt file in same format as given on the genomecov documentation using sed\n",
    "#find avg_cov of all the bam files\n",
    "bedtools genomecov -ibam aln-pe-rm.SRR4237671.bam -g csi.txt > covlist423.txt\n",
    "# find the sum of the cov values \n",
    "awk '{total = total + $3}END {print total}' covlist423.txt # = 655889340 \n",
    "#find length of the txt file to find number of repeats\n",
    "wc -l covlist423.txt # = 102123\n",
    "\n",
    "#repeat for the other bam files\n",
    "bedtools genomecov -ibam aln-pe-rm.SRR4240447.bam -g csi.txt > covlist424.txt\n",
    "awk '{total = total + $3}END {print total}' covlist424.txt #= 655889340 \n",
    "\n",
    "bedtools genomecov -ibam aln-pe-rm.SRR5799051.bam -g csi.txt > covlist579.txt\n"
   ]
  },
  {
   "cell_type": "code",
   "execution_count": 1,
   "metadata": {},
   "outputs": [],
   "source": [
    "# calculate the avg_cov of the samples \n",
    "# go to Pandas allele ipynb"
   ]
  },
  {
   "cell_type": "code",
   "execution_count": null,
   "metadata": {},
   "outputs": [],
   "source": [
    "#subset the vcf file 0.5avgcov <= DP <= 1.5 avgcov\n",
    "bcftools view -i'DP>=53 && DF<= 159' -o aln1-pe-snps-filt.vcf aln-pe=snps-filt.vcf\n",
    "\n",
    "#filter the vcf file where SNP are w/in 5bp. ensure that the SNP isn't due to indel (shift)\n",
    "bcftools filter -g 5 -o aln2-pe-snps-filt.vcf aln1-pe-snps-filt.vcf"
   ]
  },
  {
   "cell_type": "code",
   "execution_count": null,
   "metadata": {},
   "outputs": [],
   "source": [
    "# the variations of alleles have been found\n",
    "# view the bam and vcf files using software igv\n",
    "wget http://data.broadinstitute.org/igv/projects/downloads/2.5/IGV_Linux_2.5.3.zip\n",
    "\n",
    "unzip IGV_Linux_2.5.3.zip\n",
    "\n",
    "#make the script executable\n",
    "chmod a+x igv.sh\n",
    "\n"
   ]
  },
  {
   "cell_type": "code",
   "execution_count": null,
   "metadata": {},
   "outputs": [],
   "source": [
    "#create a corresponding BAI index\n",
    "samtools index -@ 40 aln-pe-rm.SRR4237671.bam\n",
    "samtools index -@ 40 aln-pe-rm.SRR4240447.bam\n",
    "samtools index -@ 40 aln-pe-rm.SRR5799051.bam"
   ]
  }
 ],
 "metadata": {
  "kernelspec": {
   "display_name": "Python 3",
   "language": "python",
   "name": "python3"
  },
  "language_info": {
   "codemirror_mode": {
    "name": "ipython",
    "version": 3
   },
   "file_extension": ".py",
   "mimetype": "text/x-python",
   "name": "python",
   "nbconvert_exporter": "python",
   "pygments_lexer": "ipython3",
   "version": "3.6.8"
  }
 },
 "nbformat": 4,
 "nbformat_minor": 2
}
