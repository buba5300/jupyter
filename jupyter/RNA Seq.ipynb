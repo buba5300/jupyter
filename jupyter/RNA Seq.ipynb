{
 "cells": [
  {
   "cell_type": "markdown",
   "metadata": {},
   "source": [
    "# Build an Index from scratch (if no index is available)\n",
    "# extract the splice and exons from the genome for the index\n",
    "!extract_splice_sites.py csi.gene.models.gtf > csi.gene.models.gtf.ss\n",
    "!extract_exons.py csi.gene.models.gtf  > csi.gene.models.gtf.exon\n",
    "# Creating a HISAT2 index to csi.gene.models_tran\n",
    "#!hisat2-build --ss csi.gene.models.ss --exon csi.gene.models.exon csi.chromosome.fa csi.chromosome_tran"
   ]
  },
  {
   "cell_type": "markdown",
   "metadata": {},
   "source": [
    "# align the RNA-seq reads to the genome\n",
    "# mapping the reads for each sample to the reference genome\n",
    "# dta reports alignments tailored for downstream of assemblers (stringtie)\n",
    "hisat2 -p40 --dta -x /RNA/VALENCIA/csi.chromosome_tran -1  CLV-102-1-GHA_1.fq.qz -2 CLV-102-1-GHA_2.fq.qz -S CLV-102-1-GHA_csi.chromosome.sam\n"
   ]
  },
  {
   "cell_type": "markdown",
   "metadata": {},
   "source": [
    "# splits the file name into the base and file type\n",
    "# uses the base name to create a list\n",
    "ls -1 *_1.fq.gz | cut -d '_' -f 1 > fastq.list\n",
    "# create lists to iterate from \n",
    "#use the hisat functions and iterate them\n",
    "for file in $(cat fastq.list); do hisat2 -p 40 --dta -x csi.chromosome_tran \\\n",
    "-1 ${file}_1.fq -2 ${file}_2.fq -S ${file}_.sam; done"
   ]
  },
  {
   "cell_type": "markdown",
   "metadata": {},
   "source": [
    "# sort and convert the SAM files to BAM\n",
    "# set path to the folders and convert the files into bam\n",
    "# rm the sam file to save space\n",
    "for file in $(cat fastq.list; do samtools sort -@ 40 -o ${file}.bam ${file}_.sam; rm ${file}_.sam; done"
   ]
  },
  {
   "cell_type": "code",
   "execution_count": null,
   "metadata": {},
   "outputs": [],
   "source": [
    "# assemble and quantify expressed genes and transcripts\n",
    "# -G insert reference annotation -l names prefix name of output transcripts\n",
    "for file in $(cat fastq.file); do stringtie -p 40 -G csi.gene.models.gtf -o ${file}_csi.chromosome.gtf -l ${file}; done\n",
    "\n",
    "# merge the transcripts from all samples\n",
    "stringtie --merge -p 40 -G csi.gene.models.gtf -o stringtie_merged.gtf \n",
    "\n",
    "# examine how the transcripts compare w the reference annotation \n",
    "gffcompare -r csi.gene.models.gtf -o merged stringtie_merged.gtf\n"
   ]
  },
  {
   "cell_type": "code",
   "execution_count": null,
   "metadata": {},
   "outputs": [],
   "source": [
    "#  re-estimate transcript abundances using the merged structures and create table counts for ballgown\n",
    "# -e -G estimates transcripts abundance given by the reference annotations\n",
    "# -B outputs as a ballgown table files for downstream analysis\n",
    "for file in $(cat fastq.list); do stringtie -e -B -p 40 -G stringtie_merged.gtf -o ballgown/${file}/${file}_csi.chromosome.gtf ${file}.bam"
   ]
  },
  {
   "cell_type": "code",
   "execution_count": null,
   "metadata": {},
   "outputs": [],
   "source": [
    "# create my own models\n",
    "# match samples with the same conditions\n",
    "match(pheno_data[2]\n",
    "# need to create groups for the function\n",
    "mod = model.matrix()"
   ]
  }
 ],
 "metadata": {
  "kernelspec": {
   "display_name": "Python 3",
   "language": "python",
   "name": "python3"
  },
  "language_info": {
   "codemirror_mode": {
    "name": "ipython",
    "version": 3
   },
   "file_extension": ".py",
   "mimetype": "text/x-python",
   "name": "python",
   "nbconvert_exporter": "python",
   "pygments_lexer": "ipython3",
   "version": "3.6.8"
  }
 },
 "nbformat": 4,
 "nbformat_minor": 2
}
