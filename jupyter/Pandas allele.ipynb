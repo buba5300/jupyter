{
 "cells": [
  {
   "cell_type": "code",
   "execution_count": 2,
   "metadata": {},
   "outputs": [],
   "source": [
    "import pandas as pd\n",
    "import glob"
   ]
  },
  {
   "cell_type": "code",
   "execution_count": 44,
   "metadata": {},
   "outputs": [
    {
     "name": "stderr",
     "output_type": "stream",
     "text": [
      "/home/kduan/anaconda3/lib/python3.6/site-packages/ipykernel_launcher.py:9: SettingWithCopyWarning: \n",
      "A value is trying to be set on a copy of a slice from a DataFrame.\n",
      "Try using .loc[row_indexer,col_indexer] = value instead\n",
      "\n",
      "See the caveats in the documentation: http://pandas.pydata.org/pandas-docs/stable/indexing.html#indexing-view-versus-copy\n",
      "  if __name__ == '__main__':\n"
     ]
    }
   ],
   "source": [
    "# write the txt into data frames so that you may filter and calculate for avg\n",
    "df_424= pd.read_csv('/RNA/covlists/covlist424.txt', header = None, sep= '\\t')\n",
    "df_424.columns = ['chromosome','covdepth','bases','chromsize','fraction']\n",
    "\n",
    "#filter for false positives and unmapped sequences. select genome as it is the sum of all the depths on a certain chromosome\n",
    "df_424gen = df_424[(df_424['covdepth']>0) & (df_424['covdepth']<=200) & (df_424['chromosome'] == 'genome')]\n",
    "\n",
    "#multiply the depth by the num of bases\n",
    "df_424gen['reads'] = df_424gen['covdepth'] * df_424gen['bases']"
   ]
  },
  {
   "cell_type": "code",
   "execution_count": 46,
   "metadata": {},
   "outputs": [
    {
     "data": {
      "text/plain": [
       "32.001291292291306"
      ]
     },
     "execution_count": 46,
     "metadata": {},
     "output_type": "execute_result"
    }
   ],
   "source": [
    "#find the avg coverage\n",
    "avecov_424 = df_424gen['reads'].sum()/df_424gen['bases'].sum()\n",
    "avecov_424"
   ]
  },
  {
   "cell_type": "code",
   "execution_count": 47,
   "metadata": {},
   "outputs": [
    {
     "name": "stderr",
     "output_type": "stream",
     "text": [
      "/home/kduan/anaconda3/lib/python3.6/site-packages/ipykernel_launcher.py:7: SettingWithCopyWarning: \n",
      "A value is trying to be set on a copy of a slice from a DataFrame.\n",
      "Try using .loc[row_indexer,col_indexer] = value instead\n",
      "\n",
      "See the caveats in the documentation: http://pandas.pydata.org/pandas-docs/stable/indexing.html#indexing-view-versus-copy\n",
      "  import sys\n"
     ]
    }
   ],
   "source": [
    "#repeat for the other tables\n",
    "df_423= pd.read_csv('/RNA/covlists/covlist423.txt', header = None, sep= '\\t')\n",
    "df_423.columns = ['chromosome','covdepth','bases','chromsize','fraction']\n",
    "\n",
    "df_423gen = df_423[(df_423['covdepth']>0) & (df_423['covdepth']<=200) & (df_423['chromosome'] == 'genome')]\n",
    "\n",
    "df_423gen['reads'] = df_423gen['covdepth'] * df_423gen['bases']\n",
    "\n",
    "avecov_423 = df_423gen['reads'].sum()/df_423gen['bases'].sum()"
   ]
  },
  {
   "cell_type": "code",
   "execution_count": 48,
   "metadata": {},
   "outputs": [
    {
     "name": "stderr",
     "output_type": "stream",
     "text": [
      "/home/kduan/anaconda3/lib/python3.6/site-packages/ipykernel_launcher.py:6: SettingWithCopyWarning: \n",
      "A value is trying to be set on a copy of a slice from a DataFrame.\n",
      "Try using .loc[row_indexer,col_indexer] = value instead\n",
      "\n",
      "See the caveats in the documentation: http://pandas.pydata.org/pandas-docs/stable/indexing.html#indexing-view-versus-copy\n",
      "  \n"
     ]
    }
   ],
   "source": [
    "df_579= pd.read_csv('/RNA/covlists/covlist579.txt', header = None, sep= '\\t')\n",
    "df_579.columns = ['chromosome','covdepth','bases','chromsize','fraction']\n",
    "\n",
    "df_579gen = df_579[(df_579['covdepth']>0) & (df_579['covdepth']<=200) & (df_579['chromosome'] == 'genome')]\n",
    "\n",
    "df_579gen['reads'] = df_579gen['covdepth'] * df_579gen['bases']\n",
    "\n",
    "avecov_579 = df_579gen['reads'].sum()/df_579gen['bases'].sum()"
   ]
  },
  {
   "cell_type": "code",
   "execution_count": 49,
   "metadata": {},
   "outputs": [
    {
     "data": {
      "text/plain": [
       "105.9618333285254"
      ]
     },
     "execution_count": 49,
     "metadata": {},
     "output_type": "execute_result"
    }
   ],
   "source": [
    "# sum the averages\n",
    "avecov_423 + avecov_424 + avecov_579"
   ]
  },
  {
   "cell_type": "code",
   "execution_count": null,
   "metadata": {},
   "outputs": [],
   "source": []
  }
 ],
 "metadata": {
  "kernelspec": {
   "display_name": "Python 3",
   "language": "python",
   "name": "python3"
  },
  "language_info": {
   "codemirror_mode": {
    "name": "ipython",
    "version": 3
   },
   "file_extension": ".py",
   "mimetype": "text/x-python",
   "name": "python",
   "nbconvert_exporter": "python",
   "pygments_lexer": "ipython3",
   "version": "3.6.8"
  }
 },
 "nbformat": 4,
 "nbformat_minor": 2
}
